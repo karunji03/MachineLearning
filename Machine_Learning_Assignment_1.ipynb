{
 "cells": [
  {
   "cell_type": "code",
   "execution_count": 3,
   "id": "ce54d99f",
   "metadata": {},
   "outputs": [
    {
     "name": "stdout",
     "output_type": "stream",
     "text": [
      "Sorted List: [19, 19, 20, 22, 24, 24, 24, 25, 25, 26]\n",
      "Min Age: 19\n",
      "Max Age: 26\n",
      "List after adding the Min and Max ages: [19, 19, 20, 22, 24, 24, 24, 25, 25, 26, 19, 26]\n",
      "The Median of the Ages: 24.0\n",
      "The Average of Ages: 22.75\n",
      "The Range of the Ages: 7\n"
     ]
    }
   ],
   "source": [
    "# Question 1\n",
    "ages = [19, 22, 19, 24, 20, 25, 26, 24, 25, 24]\n",
    "\n",
    "# Sort the list and find the min and max age\n",
    "ages.sort()\n",
    "minAge = min(ages)\n",
    "maxAge = max(ages)\n",
    "print(\"Sorted List:\", ages)\n",
    "print(\"Min Age:\", minAge)\n",
    "print(\"Max Age:\", maxAge)\n",
    "\n",
    "# Add the min age and the max age again to the list\n",
    "ages.append(minAge)\n",
    "ages.append(maxAge)\n",
    "print(\"List after adding the Min and Max ages:\", ages)\n",
    "\n",
    "# Find the median age (one middle item or two middle items divided by two)\n",
    "ages.sort()\n",
    "\n",
    "if len(ages) % 2 == 0:\n",
    "    midIndex = int(len(ages) / 2) - 1\n",
    "    centerLeft = ages[midIndex]\n",
    "    centerRight = ages[midIndex + 1]\n",
    "    median = (centerLeft + centerRight) / 2\n",
    "else:\n",
    "    midIndex = int(len(ages) / 2)\n",
    "    median = ages[midIndex]\n",
    "\n",
    "print(\"The Median of the Ages:\", median)\n",
    "\n",
    "# Find the average age (sum of all items divided by their number)\n",
    "average = sum(ages) / len(ages)\n",
    "print(\"The Average of Ages:\", average)\n",
    "\n",
    "# Find the range of the ages (max minus min)\n",
    "ageRange = maxAge - minAge\n",
    "print(\"The Range of the Ages:\", ageRange)"
   ]
  },
  {
   "cell_type": "code",
   "execution_count": 4,
   "id": "0565bacb",
   "metadata": {},
   "outputs": [
    {
     "name": "stdout",
     "output_type": "stream",
     "text": [
      "dog dictionary: {'name': 'ALEX', 'color': 'Black', 'breed': 'PITBULL', 'legs': 4, 'age': 2}\n",
      "Student dictionary: {'first_name': 'KARUN', 'last_name': 'BUSSARI', 'gender': 'M', 'age': 25, 'marital status': 'UnMarried', 'skills': ['Cricket', 'Volley ball'], 'country': 'India', 'city': 'Hyderabad', 'address': '1-11 Hyderabad'}\n",
      "student Dictionary Length: 9\n",
      "Skills: ['Cricket', 'Volley ball']\n",
      "Data type of 'skills' value is list\n",
      "Skills after adding 'Sprint': ['Cricket', 'Volley ball', 'Sprint']\n",
      "Keys as List: ['first_name', 'last_name', 'gender', 'age', 'marital status', 'skills', 'country', 'city', 'address']\n",
      "Values as List: ['KARUN', 'BUSSARI', 'M', 25, 'UnMarried', ['Cricket', 'Volley ball', 'Sprint'], 'India', 'Hyderabad', '1-11 Hyderabad']\n"
     ]
    }
   ],
   "source": [
    "# Question 2\n",
    "# Create an empty dictionary called dog\n",
    "dog = dict()\n",
    "\n",
    "# Add name, color, breed, legs, age to the dog dictionary\n",
    "dog[\"name\"] = \"ALEX\"\n",
    "dog[\"color\"] = \"Black\"\n",
    "dog[\"breed\"] = \"PITBULL\"\n",
    "dog[\"legs\"] = 4\n",
    "dog[\"age\"] = 2\n",
    "print(\"dog dictionary:\", dog)\n",
    "\n",
    "# Create a student dictionary and add first_name, last_name, gender, age, marital status,\n",
    "# skills, country, city and address as keys for the dictionary\n",
    "student = dict()\n",
    "student[\"first_name\"] = \"KARUN\"\n",
    "student[\"last_name\"] = \"BUSSARI\"\n",
    "student[\"gender\"] = \"M\"\n",
    "student[\"age\"] = 25\n",
    "student[\"marital status\"] = \"UnMarried\"\n",
    "student[\"skills\"] = [\"Cricket\", \"Volley ball\"]\n",
    "student[\"country\"] = \"India\"\n",
    "student[\"city\"] = \"Hyderabad\"\n",
    "student[\"address\"] = \"1-11 Hyderabad\"\n",
    "print(\"Student dictionary:\", student)\n",
    "\n",
    "# Get the length of the student dictionary\n",
    "studDictLength = len(student)\n",
    "print(\"student Dictionary Length:\", studDictLength)\n",
    "\n",
    "# Get the value of skills and check the data type, it should be a list\n",
    "skills = student[\"skills\"]\n",
    "dataType = type(skills)\n",
    "print(\"Skills:\", skills)\n",
    "\n",
    "if type(skills) == list:\n",
    "    print(\"Data type of 'skills' value is list\")\n",
    "else:\n",
    "    print(\"Data type of 'skills' value is not list\")\n",
    "\n",
    "# Modify the skills values by adding one or two skills\n",
    "student[\"skills\"].append(\"Sprint\")\n",
    "print(\"Skills after adding 'Sprint':\", student[\"skills\"])\n",
    "\n",
    "# Get the dictionary keys as a list\n",
    "keys = student.keys()\n",
    "keysAsList = list(keys)\n",
    "print(\"Keys as List:\", keysAsList)\n",
    "\n",
    "# Get the dictionary values as a list\n",
    "values = student.values()\n",
    "valuesAsList = list(values)\n",
    "print(\"Values as List:\", valuesAsList)"
   ]
  },
  {
   "cell_type": "code",
   "execution_count": 5,
   "id": "19e29fce",
   "metadata": {},
   "outputs": [
    {
     "name": "stdout",
     "output_type": "stream",
     "text": [
      "sisters tuple: ('Dua', 'Mary')\n",
      "brothers tuple: ('Ravi', 'Neeraj', 'James', 'Jacob')\n",
      "siblings tuple: ('Dua', 'Mary', 'Ravi', 'Neeraj', 'James', 'Jacob')\n",
      "Number of siblings: 6\n",
      "family_members tuple: ('Joaquin', 'Mary', 'Dua', 'Mary', 'Ravi', 'Neeraj', 'James', 'Jacob')\n"
     ]
    }
   ],
   "source": [
    "# Question 3\n",
    "# Create a tuple containing names of your sisters and your brothers (imaginary siblings are\n",
    "# fine)\n",
    "sisters = (\"Dua\", \"Mary\")\n",
    "brothers = (\"Ravi\", \"Neeraj\", \"James\", \"Jacob\")\n",
    "print(\"sisters tuple:\", sisters)\n",
    "print(\"brothers tuple:\", brothers)\n",
    "\n",
    "# Join brothers and sisters tuples and assign it to siblings\n",
    "siblings = sisters + brothers\n",
    "print(\"siblings tuple:\", siblings)\n",
    "\n",
    "# How many siblings do you have?\n",
    "siblingCount = len(siblings)\n",
    "print(\"Number of siblings:\", siblingCount)\n",
    "\n",
    "# Modify the siblings tuple and add the name of your father and mother and assign it to\n",
    "# family_members\n",
    "father = \"Joaquin\"\n",
    "mother = \"Mary\"\n",
    "family_members = (father, mother) + siblings\n",
    "print(\"family_members tuple:\", family_members)"
   ]
  },
  {
   "cell_type": "code",
   "execution_count": 6,
   "id": "6a4bfd2d",
   "metadata": {},
   "outputs": [
    {
     "name": "stdout",
     "output_type": "stream",
     "text": [
      "length of set it_companies: 7\n",
      "Set it_companies after adding 'Twitter': {'Apple', 'IBM', 'Oracle', 'Twitter', 'Google', 'Facebook', 'Microsoft', 'Amazon'}\n",
      "Set it_companies after adding 'YouTube' and 'Spotify': {'YouTube', 'Twitter', 'Google', 'Microsoft', 'Amazon', 'Apple', 'IBM', 'Oracle', 'Facebook', 'Spotify'}\n",
      "Set it_companies after removing 'Spotify': {'YouTube', 'Twitter', 'Google', 'Microsoft', 'Amazon', 'Apple', 'IBM', 'Oracle', 'Facebook'}\n",
      "{19, 20, 22, 24, 25, 26, 27, 28}\n",
      "{19, 20, 22, 24, 25, 26}\n",
      "A is subset of B\n",
      "A and B are not disjoint sets\n",
      "A joined with B: None\n",
      "B joined with A: None\n",
      "Symmetric difference between A and B: set()\n",
      "Sets it_companies, A, and B deleted successfully\n",
      "List age has length: 8\n",
      "Set ageSet has length: 5\n",
      "Length difference: 3\n"
     ]
    }
   ],
   "source": [
    "\n",
    "# Question 4\n",
    "it_companies = {'Facebook', 'Google', 'Microsoft', 'Apple', 'IBM', 'Oracle', 'Amazon'}\n",
    "A = {19, 22, 24, 20, 25, 26}\n",
    "B = {19, 22, 20, 25, 26, 24, 28, 27}\n",
    "age = [22, 19, 24, 25, 26, 24, 25, 24]\n",
    "\n",
    "# Find the length of the set it_companies\n",
    "it_companies_len = len(it_companies)\n",
    "print(\"length of set it_companies:\", it_companies_len)\n",
    "\n",
    "# Add 'Twitter' to it_companies\n",
    "it_companies.add(\"Twitter\")\n",
    "print(\"Set it_companies after adding 'Twitter':\", it_companies)\n",
    "\n",
    "# Insert multiple IT companies at once to the set it_companies\n",
    "it_companies.update({\"YouTube\", \"Spotify\"})\n",
    "print(\"Set it_companies after adding 'YouTube' and 'Spotify':\", it_companies)\n",
    "\n",
    "# Remove one of the companies from the set it_companies\n",
    "it_companies.remove(\"Spotify\")\n",
    "print(\"Set it_companies after removing 'Spotify':\", it_companies)\n",
    "\n",
    "# What is the difference between remove and discard\n",
    "## remove raises a KeyError exception if the specified item is not in the set,\n",
    "## while discard will not raise an exception.\n",
    "\n",
    "# Join A and B\n",
    "ABJoin = A | B\n",
    "print(ABJoin)\n",
    "# Find A intersection B\n",
    "ABIntersect = A & B\n",
    "print(ABIntersect)\n",
    "\n",
    "# Is A subset of B\n",
    "isSubset = A.issubset(B)\n",
    "if isSubset:\n",
    "    print(\"A is subset of B\")\n",
    "else:\n",
    "    print(\"A is not subset of B\")\n",
    "\n",
    "# Are A and B disjoint sets\n",
    "isDisjoint = A.isdisjoint(B)\n",
    "if isDisjoint:\n",
    "    print(\"A and B are disjoint sets\")\n",
    "else:\n",
    "    print(\"A and B are not disjoint sets\")\n",
    "\n",
    "# Join A with B and B with A\n",
    "ABJoin = A.update(B)\n",
    "BAJoin = B.update(A)\n",
    "print(\"A joined with B:\", ABJoin)\n",
    "print(\"B joined with A:\", BAJoin)\n",
    "\n",
    "# What is the symmetric difference between A and B\n",
    "ABSymDif = A ^ B\n",
    "print(\"Symmetric difference between A and B:\", ABSymDif)\n",
    "\n",
    "# Delete the sets completely\n",
    "del it_companies\n",
    "del A\n",
    "del B\n",
    "print(\"Sets it_companies, A, and B deleted successfully\")\n",
    "\n",
    "# Convert the ages to a set and compare the length of the list and the set.\n",
    "ageSet = set(age)\n",
    "listLen = len(age)\n",
    "setLen = len(ageSet)\n",
    "print(\"List age has length:\", listLen)\n",
    "print(\"Set ageSet has length:\", setLen)\n",
    "print(\"Length difference:\", listLen - setLen)"
   ]
  },
  {
   "cell_type": "code",
   "execution_count": 7,
   "id": "d32117be",
   "metadata": {},
   "outputs": [
    {
     "name": "stdout",
     "output_type": "stream",
     "text": [
      "Enter radius: 30\n",
      "Area of circle: 2826.0\n",
      "Circumference of circle: 188.4\n"
     ]
    }
   ],
   "source": [
    "# Question 5\n",
    "# Take radius as user input and calculate the area.\n",
    "radius = float(input(\"Enter radius: \"))\n",
    "\n",
    "# Calculate the area of a circle and assign the value to a variable name of _area_of_circle_\n",
    "_area_of_circle_ = 3.14 * radius ** 2\n",
    "print(\"Area of circle:\", _area_of_circle_)\n",
    "\n",
    "# Calculate the circumference of a circle and assign the value to a variable name of _circum_of_circle_\n",
    "_circum_of_circle_ = 3.14 * radius * 2\n",
    "print(\"Circumference of circle:\", _circum_of_circle_)"
   ]
  },
  {
   "cell_type": "code",
   "execution_count": 8,
   "id": "8503ad55",
   "metadata": {},
   "outputs": [
    {
     "name": "stdout",
     "output_type": "stream",
     "text": [
      "Unique words in sentence: 10\n"
     ]
    }
   ],
   "source": [
    "# Question 6\n",
    "# How many unique words have been used in the sentence? Use the split methods and set\n",
    "# to get the unique words.\n",
    "sentence = \"I am a director and I love to tell stories to people\"\n",
    "wordList = sentence.split(\" \")\n",
    "wordSet = set(wordList)\n",
    "unique = len(wordSet)\n",
    "print(\"Unique words in sentence:\", unique)"
   ]
  },
  {
   "cell_type": "code",
   "execution_count": 9,
   "id": "0a16b69f",
   "metadata": {},
   "outputs": [
    {
     "name": "stdout",
     "output_type": "stream",
     "text": [
      "Name\tAge\tCountry\tCity\n",
      "Asabeneh\t250\tFinland\tHelsinki\n"
     ]
    }
   ],
   "source": [
    "# Question 7\n",
    "# Use a tab escape sequence to get the following lines.\n",
    "print(\"Name\\tAge\\tCountry\\tCity\\nAsabeneh\\t250\\tFinland\\tHelsinki\")"
   ]
  },
  {
   "cell_type": "code",
   "execution_count": 9,
   "id": "188ab1a7",
   "metadata": {},
   "outputs": [
    {
     "name": "stdout",
     "output_type": "stream",
     "text": [
      "The area of a circle with radius 10 is 314 meters square.\n"
     ]
    }
   ],
   "source": [
    "# Question 8\n",
    "# Use the string formatting method to display the following:\n",
    "# radius = 10\n",
    "# area = 3.14 * radius ** 2\n",
    "# \"The area of a circle with radius 10 is 314 meters square.\"\n",
    "\n",
    "radius = 10\n",
    "area = 3.14 * radius ** 2\n",
    "print(\"The area of a circle with radius %s is %d meters square.\" % (radius, area))"
   ]
  },
  {
   "cell_type": "code",
   "execution_count": null,
   "id": "c7c046e7",
   "metadata": {},
   "outputs": [],
   "source": [
    "# Question 9\n",
    "# Write a program, which reads weights (lbs.) of N students into a list and convert these weights to\n",
    "# kilograms in a separate list using Loop. N: No of students (Read input from user)\n",
    "# Ex: L1: [150, 155, 145, 148]\n",
    "# Output: [68.03, 70.3, 65.77, 67.13]\n",
    "\n",
    "N = int(input(\"Enter number of students: \"))\n",
    "weightsPound = []\n",
    "weightsKilo = []\n",
    "\n",
    "for i in range(N):\n",
    "    weight = int(input(\"Enter weight (lbs.): \"))\n",
    "    weightsPound.append(weight)\n",
    "\n",
    "for i in range(len(weightsPound)):\n",
    "    inKilo = round(weightsPound[i] * 0.453592, 2)\n",
    "    weightsKilo.append(inKilo)\n",
    "\n",
    "print(\"weights in Pounds:\", weightsPound)\n",
    "print(\"weights in Kilos:\", weightsKilo)"
   ]
  },
  {
   "cell_type": "code",
   "execution_count": null,
   "id": "0a841c16",
   "metadata": {},
   "outputs": [],
   "source": [
    "# Question 9\n",
    "# Write a program, which reads weights (lbs.) of N students into a list and convert these weights to\n",
    "# kilograms in a separate list using Loop. N: No of students (Read input from user)\n",
    "# Ex: L1: [150, 155, 145, 148]\n",
    "# Output: [68.03, 70.3, 65.77, 67.13]\n",
    "\n",
    "N = int(input(\"Enter number of students: \"))\n",
    "weightsPound = []\n",
    "weightsKilo = []\n",
    "\n",
    "for i in range(N):\n",
    "    weight = int(input(\"Enter weight (lbs.): \"))\n",
    "    weightsPound.append(weight)\n",
    "\n",
    "for i in range(len(weightsPound)):\n",
    "    inKilo = round(weightsPound[i] * 0.453592, 2)\n",
    "    weightsKilo.append(inKilo)\n",
    "\n",
    "print(\"weights in Pounds:\", weightsPound)\n",
    "print(\"weights in Kilos:\", weightsKilo)"
   ]
  },
  {
   "cell_type": "code",
   "execution_count": null,
   "id": "176ead2f",
   "metadata": {},
   "outputs": [],
   "source": []
  },
  {
   "cell_type": "code",
   "execution_count": 1,
   "id": "11ac195f",
   "metadata": {},
   "outputs": [
    {
     "name": "stdout",
     "output_type": "stream",
     "text": [
      "Enter number of students: 2\n",
      "Enter weight (lbs.): 69\n",
      "Enter weight (lbs.): 72\n",
      "weights in Pounds: [69, 72]\n",
      "weights in Kilos: [31.3, 32.66]\n"
     ]
    }
   ],
   "source": [
    "# Question 9\n",
    "# Write a program, which reads weights (lbs.) of N students into a list and convert these weights to\n",
    "# kilograms in a separate list using Loop. N: No of students (Read input from user)\n",
    "# Ex: L1: [150, 155, 145, 148]\n",
    "# Output: [68.03, 70.3, 65.77, 67.13]\n",
    "\n",
    "N = int(input(\"Enter number of students: \"))\n",
    "weightsPound = []\n",
    "weightsKilo = []\n",
    "\n",
    "for i in range(N):\n",
    "    weight = int(input(\"Enter weight (lbs.): \"))\n",
    "    weightsPound.append(weight)\n",
    "\n",
    "for i in range(len(weightsPound)):\n",
    "    inKilo = round(weightsPound[i] * 0.453592, 2)\n",
    "    weightsKilo.append(inKilo)\n",
    "\n",
    "print(\"weights in Pounds:\", weightsPound)\n",
    "print(\"weights in Kilos:\", weightsKilo)"
   ]
  },
  {
   "cell_type": "code",
   "execution_count": null,
   "id": "5c0f388c",
   "metadata": {},
   "outputs": [],
   "source": []
  }
 ],
 "metadata": {
  "kernelspec": {
   "display_name": "Python 3 (ipykernel)",
   "language": "python",
   "name": "python3"
  },
  "language_info": {
   "codemirror_mode": {
    "name": "ipython",
    "version": 3
   },
   "file_extension": ".py",
   "mimetype": "text/x-python",
   "name": "python",
   "nbconvert_exporter": "python",
   "pygments_lexer": "ipython3",
   "version": "3.9.12"
  }
 },
 "nbformat": 4,
 "nbformat_minor": 5
}
